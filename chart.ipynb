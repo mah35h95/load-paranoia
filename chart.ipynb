{
 "cells": [
  {
   "cell_type": "code",
   "execution_count": null,
   "id": "24720abc",
   "metadata": {},
   "outputs": [],
   "source": [
    "import pandas as pd\n",
    "import matplotlib.pyplot as plt\n",
    "\n",
    "tables: list[str] = [\"afko\"]\n",
    "\n",
    "for table in tables:\n",
    "    log_df = pd.read_csv(f\"./output/{table}_log.csv\")\n",
    "    log_df[\"datetime\"] = pd.to_datetime(log_df[\"timestamp\"], unit=\"ms\")\n",
    "\n",
    "    bq_df = pd.read_csv(f\"./output/{table}_bq.csv\")\n",
    "    bq_df[\"datetime\"] = pd.to_datetime(bq_df[\"timestamp\"], unit=\"ms\")\n",
    "\n",
    "    # # Plot the first DataFrame and store the Axes object\n",
    "    # ax = log_df.plot(\n",
    "    #     x=\"datetime\", y=\"queryOutputRowCount\", label=\"Merge Query Output Row Count\"\n",
    "    # )\n",
    "\n",
    "    # # Plot the second DataFrame on the same Axes object\n",
    "    # bq_df.plot(x=\"datetime\", y=\"effectedRowCount\", label=\"SLT Output Row Count\", ax=ax)\n",
    "\n",
    "    # Plot the first DataFrame and store the Axes object\n",
    "    ax = bq_df.plot(x=\"datetime\", y=\"effectedRowCount\", label=\"SLT Output Row Count\")\n",
    "\n",
    "    # Plot the second DataFrame on the same Axes object\n",
    "    log_df.plot(\n",
    "        x=\"datetime\",\n",
    "        y=\"queryOutputRowCount\",\n",
    "        label=\"Merge Query Output Row Count\",\n",
    "        ax=ax,\n",
    "    )\n",
    "\n",
    "    # Add a title and labels for clarity\n",
    "    plt.title(f\"{table} - STL to New Lake Check\")\n",
    "    plt.xlabel(\"Timestamp\")\n",
    "    plt.ylabel(\"Row Count\")\n",
    "\n",
    "    # Display the legend to differentiate the plots\n",
    "    plt.legend()\n",
    "\n",
    "    # Save plt\n",
    "    plt.savefig(f\"./output/{table}-plt.png\")\n",
    "\n",
    "    # Show the plot\n",
    "    plt.show()"
   ]
  }
 ],
 "metadata": {
  "kernelspec": {
   "display_name": "Python 3",
   "language": "python",
   "name": "python3"
  },
  "language_info": {
   "codemirror_mode": {
    "name": "ipython",
    "version": 3
   },
   "file_extension": ".py",
   "mimetype": "text/x-python",
   "name": "python",
   "nbconvert_exporter": "python",
   "pygments_lexer": "ipython3",
   "version": "3.12.11"
  }
 },
 "nbformat": 4,
 "nbformat_minor": 5
}
